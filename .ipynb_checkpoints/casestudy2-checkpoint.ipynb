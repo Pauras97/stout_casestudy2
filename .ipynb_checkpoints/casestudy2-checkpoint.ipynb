{
 "cells": [
  {
   "cell_type": "code",
   "execution_count": 17,
   "id": "oriental-creation",
   "metadata": {},
   "outputs": [],
   "source": [
    "import pandas as pd\n",
    "from collections import defaultdict"
   ]
  },
  {
   "cell_type": "code",
   "execution_count": 8,
   "id": "metallic-edward",
   "metadata": {},
   "outputs": [],
   "source": [
    "data = pd.read_csv('casestudy.csv', index_col=0)"
   ]
  },
  {
   "cell_type": "code",
   "execution_count": 11,
   "id": "fancy-latvia",
   "metadata": {},
   "outputs": [
    {
     "data": {
      "text/html": [
       "<div>\n",
       "<style scoped>\n",
       "    .dataframe tbody tr th:only-of-type {\n",
       "        vertical-align: middle;\n",
       "    }\n",
       "\n",
       "    .dataframe tbody tr th {\n",
       "        vertical-align: top;\n",
       "    }\n",
       "\n",
       "    .dataframe thead th {\n",
       "        text-align: right;\n",
       "    }\n",
       "</style>\n",
       "<table border=\"1\" class=\"dataframe\">\n",
       "  <thead>\n",
       "    <tr style=\"text-align: right;\">\n",
       "      <th></th>\n",
       "      <th>customer_email</th>\n",
       "      <th>net_revenue</th>\n",
       "      <th>year</th>\n",
       "    </tr>\n",
       "  </thead>\n",
       "  <tbody>\n",
       "    <tr>\n",
       "      <th>0</th>\n",
       "      <td>nhknapwsbx@gmail.com</td>\n",
       "      <td>249.92</td>\n",
       "      <td>2015</td>\n",
       "    </tr>\n",
       "    <tr>\n",
       "      <th>1</th>\n",
       "      <td>joiuzbvcpn@gmail.com</td>\n",
       "      <td>87.61</td>\n",
       "      <td>2015</td>\n",
       "    </tr>\n",
       "    <tr>\n",
       "      <th>2</th>\n",
       "      <td>ukkjctepxt@gmail.com</td>\n",
       "      <td>168.38</td>\n",
       "      <td>2015</td>\n",
       "    </tr>\n",
       "    <tr>\n",
       "      <th>3</th>\n",
       "      <td>gykatilzrt@gmail.com</td>\n",
       "      <td>62.40</td>\n",
       "      <td>2015</td>\n",
       "    </tr>\n",
       "    <tr>\n",
       "      <th>4</th>\n",
       "      <td>mmsgsrtxah@gmail.com</td>\n",
       "      <td>43.08</td>\n",
       "      <td>2015</td>\n",
       "    </tr>\n",
       "  </tbody>\n",
       "</table>\n",
       "</div>"
      ],
      "text/plain": [
       "          customer_email  net_revenue  year\n",
       "0   nhknapwsbx@gmail.com       249.92  2015\n",
       "1   joiuzbvcpn@gmail.com        87.61  2015\n",
       "2   ukkjctepxt@gmail.com       168.38  2015\n",
       "3   gykatilzrt@gmail.com        62.40  2015\n",
       "4   mmsgsrtxah@gmail.com        43.08  2015"
      ]
     },
     "execution_count": 11,
     "metadata": {},
     "output_type": "execute_result"
    }
   ],
   "source": [
    "data.head()"
   ]
  },
  {
   "cell_type": "code",
   "execution_count": 14,
   "id": "sonic-thong",
   "metadata": {},
   "outputs": [
    {
     "data": {
      "text/plain": [
       "False"
      ]
     },
     "execution_count": 14,
     "metadata": {},
     "output_type": "execute_result"
    }
   ],
   "source": [
    "data.isnull().values.any()"
   ]
  },
  {
   "cell_type": "code",
   "execution_count": 58,
   "id": "certified-neighborhood",
   "metadata": {},
   "outputs": [],
   "source": [
    "years = sorted(list((set(data['year']))))\n",
    "yearly_data = defaultdict(pd.DataFrame)\n",
    "for year in years:\n",
    "    yearly_data[year] = data[data['year']==year]\n",
    "    \n",
    "output_df = pd.DataFrame()"
   ]
  },
  {
   "cell_type": "markdown",
   "id": "minimal-above",
   "metadata": {},
   "source": [
    "## I've made separate dataframes for outputs of every requirement and then combining later just for the sake of this assignment to show clarity and flow \n",
    "## In a real world scenario, I'd create one common dataframe for all the requirements to save MEMORY, time and redundancy"
   ]
  },
  {
   "cell_type": "markdown",
   "id": "southern-referral",
   "metadata": {},
   "source": [
    "## Total revenue by year"
   ]
  },
  {
   "cell_type": "code",
   "execution_count": 31,
   "id": "caring-debut",
   "metadata": {},
   "outputs": [
    {
     "data": {
      "text/html": [
       "<div>\n",
       "<style scoped>\n",
       "    .dataframe tbody tr th:only-of-type {\n",
       "        vertical-align: middle;\n",
       "    }\n",
       "\n",
       "    .dataframe tbody tr th {\n",
       "        vertical-align: top;\n",
       "    }\n",
       "\n",
       "    .dataframe thead th {\n",
       "        text-align: right;\n",
       "    }\n",
       "</style>\n",
       "<table border=\"1\" class=\"dataframe\">\n",
       "  <thead>\n",
       "    <tr style=\"text-align: right;\">\n",
       "      <th></th>\n",
       "      <th>year</th>\n",
       "      <th>revenue</th>\n",
       "    </tr>\n",
       "  </thead>\n",
       "  <tbody>\n",
       "    <tr>\n",
       "      <th>0</th>\n",
       "      <td>2015</td>\n",
       "      <td>29036749.19</td>\n",
       "    </tr>\n",
       "    <tr>\n",
       "      <th>1</th>\n",
       "      <td>2016</td>\n",
       "      <td>25730943.59</td>\n",
       "    </tr>\n",
       "    <tr>\n",
       "      <th>2</th>\n",
       "      <td>2017</td>\n",
       "      <td>31417495.03</td>\n",
       "    </tr>\n",
       "  </tbody>\n",
       "</table>\n",
       "</div>"
      ],
      "text/plain": [
       "   year      revenue\n",
       "0  2015  29036749.19\n",
       "1  2016  25730943.59\n",
       "2  2017  31417495.03"
      ]
     },
     "execution_count": 31,
     "metadata": {},
     "output_type": "execute_result"
    }
   ],
   "source": [
    "revenue = []\n",
    "for year in years:\n",
    "    total_rev = sum(yearly_data[year]['net_revenue'])\n",
    "    revenue.append(total_rev)\n",
    "yearly_rev = pd.DataFrame()\n",
    "yearly_rev['year'] = years\n",
    "yearly_rev['revenue'] = revenue\n",
    "yearly_rev"
   ]
  },
  {
   "cell_type": "markdown",
   "id": "treated-constant",
   "metadata": {},
   "source": [
    "## New Customer Revenue"
   ]
  },
  {
   "cell_type": "code",
   "execution_count": 47,
   "id": "cognitive-january",
   "metadata": {
    "scrolled": true
   },
   "outputs": [
    {
     "data": {
      "text/html": [
       "<div>\n",
       "<style scoped>\n",
       "    .dataframe tbody tr th:only-of-type {\n",
       "        vertical-align: middle;\n",
       "    }\n",
       "\n",
       "    .dataframe tbody tr th {\n",
       "        vertical-align: top;\n",
       "    }\n",
       "\n",
       "    .dataframe thead th {\n",
       "        text-align: right;\n",
       "    }\n",
       "</style>\n",
       "<table border=\"1\" class=\"dataframe\">\n",
       "  <thead>\n",
       "    <tr style=\"text-align: right;\">\n",
       "      <th></th>\n",
       "      <th>year</th>\n",
       "      <th>new_revenue</th>\n",
       "    </tr>\n",
       "  </thead>\n",
       "  <tbody>\n",
       "    <tr>\n",
       "      <th>0</th>\n",
       "      <td>2015</td>\n",
       "      <td>nan</td>\n",
       "    </tr>\n",
       "    <tr>\n",
       "      <th>1</th>\n",
       "      <td>2016</td>\n",
       "      <td>18245491.01</td>\n",
       "    </tr>\n",
       "    <tr>\n",
       "      <th>2</th>\n",
       "      <td>2017</td>\n",
       "      <td>28776235.04</td>\n",
       "    </tr>\n",
       "  </tbody>\n",
       "</table>\n",
       "</div>"
      ],
      "text/plain": [
       "   year  new_revenue\n",
       "0  2015          nan\n",
       "1  2016  18245491.01\n",
       "2  2017  28776235.04"
      ]
     },
     "execution_count": 47,
     "metadata": {},
     "output_type": "execute_result"
    }
   ],
   "source": [
    "new_cust_rev = ['nan']\n",
    "\n",
    "for i in range(1,len(years)):\n",
    "    curr_year_data = yearly_data[years[i]]\n",
    "    \n",
    "    curr_cust = set(curr_year_data['customer_email'])\n",
    "    prev_cust = set(yearly_data[years[i-1]]['customer_email'])\n",
    "    new_cust = list(curr_cust - prev_cust)\n",
    "    \n",
    "    new_rev_data = curr_year_data[curr_year_data['customer_email'].isin(new_cust)]\n",
    "    new_cust_rev.append(sum(new_rev_data['net_revenue']))\n",
    "\n",
    "new_rev = pd.DataFrame()\n",
    "new_rev['year'] = years\n",
    "new_rev['new_revenue'] = new_cust_rev\n",
    "new_rev"
   ]
  },
  {
   "cell_type": "code",
   "execution_count": 63,
   "id": "prerequisite-palestinian",
   "metadata": {},
   "outputs": [],
   "source": [
    "output_df = pd.merge(yearly_rev, new_rev, on=\"year\")"
   ]
  },
  {
   "cell_type": "markdown",
   "id": "quantitative-youth",
   "metadata": {},
   "source": [
    "## Existing Customer Growth, Revenue of Existing Customers, and Revenue of existing customers from existing year"
   ]
  },
  {
   "cell_type": "code",
   "execution_count": 48,
   "id": "authorized-inspection",
   "metadata": {},
   "outputs": [
    {
     "data": {
      "text/html": [
       "<div>\n",
       "<style scoped>\n",
       "    .dataframe tbody tr th:only-of-type {\n",
       "        vertical-align: middle;\n",
       "    }\n",
       "\n",
       "    .dataframe tbody tr th {\n",
       "        vertical-align: top;\n",
       "    }\n",
       "\n",
       "    .dataframe thead th {\n",
       "        text-align: right;\n",
       "    }\n",
       "</style>\n",
       "<table border=\"1\" class=\"dataframe\">\n",
       "  <thead>\n",
       "    <tr style=\"text-align: right;\">\n",
       "      <th></th>\n",
       "      <th>year</th>\n",
       "      <th>existing_cust_growth</th>\n",
       "    </tr>\n",
       "  </thead>\n",
       "  <tbody>\n",
       "    <tr>\n",
       "      <th>0</th>\n",
       "      <td>2015</td>\n",
       "      <td>nan</td>\n",
       "    </tr>\n",
       "    <tr>\n",
       "      <th>1</th>\n",
       "      <td>2016</td>\n",
       "      <td>20335.46</td>\n",
       "    </tr>\n",
       "    <tr>\n",
       "      <th>2</th>\n",
       "      <td>2017</td>\n",
       "      <td>20611.34</td>\n",
       "    </tr>\n",
       "  </tbody>\n",
       "</table>\n",
       "</div>"
      ],
      "text/plain": [
       "   year existing_cust_growth\n",
       "0  2015                  nan\n",
       "1  2016             20335.46\n",
       "2  2017             20611.34"
      ]
     },
     "execution_count": 48,
     "metadata": {},
     "output_type": "execute_result"
    }
   ],
   "source": [
    "existing_cust_growth = ['nan']\n",
    "\n",
    "for i in range(1,len(years)):\n",
    "    curr_year_data = yearly_data[years[i]]\n",
    "    prev_year_data = yearly_data[years[i-1]]\n",
    "    \n",
    "    curr_cust = set(curr_year_data['customer_email'])\n",
    "    prev_cust = set(prev_year_data['customer_email'])\n",
    "    \n",
    "    existing_cust = list(curr_cust.intersection(prev_cust))\n",
    "    \n",
    "    exist_cust_data = curr_year_data[curr_year_data['customer_email'].isin(existing_cust)]\n",
    "    \n",
    "    rev_exist_cust = sum(exist_cust_data['net_revenue'])\n",
    "    rev_exit_cust_prev = sum(prev_year_data[prev_year_data['customer_email'].isin(existing_cust)]['net_revenue'])\n",
    "    exist_cust_growth = rev_exist_cust - rev_exit_cust_prev\n",
    "    \n",
    "    existing_cust_growth.append(exist_cust_growth)\n",
    "\n",
    "growth = pd.DataFrame()\n",
    "growth['year'] = years\n",
    "growth['existing_cust_growth'] = existing_cust_growth\n",
    "growth"
   ]
  },
  {
   "cell_type": "code",
   "execution_count": 65,
   "id": "patient-spare",
   "metadata": {},
   "outputs": [],
   "source": [
    "output_df = pd.merge(output_df, growth, on=\"year\")"
   ]
  },
  {
   "cell_type": "markdown",
   "id": "apparent-negotiation",
   "metadata": {},
   "source": [
    "## Revenue lost from attrition"
   ]
  },
  {
   "cell_type": "code",
   "execution_count": 60,
   "id": "incredible-electricity",
   "metadata": {
    "scrolled": true
   },
   "outputs": [
    {
     "data": {
      "text/html": [
       "<div>\n",
       "<style scoped>\n",
       "    .dataframe tbody tr th:only-of-type {\n",
       "        vertical-align: middle;\n",
       "    }\n",
       "\n",
       "    .dataframe tbody tr th {\n",
       "        vertical-align: top;\n",
       "    }\n",
       "\n",
       "    .dataframe thead th {\n",
       "        text-align: right;\n",
       "    }\n",
       "</style>\n",
       "<table border=\"1\" class=\"dataframe\">\n",
       "  <thead>\n",
       "    <tr style=\"text-align: right;\">\n",
       "      <th></th>\n",
       "      <th>year</th>\n",
       "      <th>attrition</th>\n",
       "    </tr>\n",
       "  </thead>\n",
       "  <tbody>\n",
       "    <tr>\n",
       "      <th>0</th>\n",
       "      <td>2015</td>\n",
       "      <td>nan</td>\n",
       "    </tr>\n",
       "    <tr>\n",
       "      <th>1</th>\n",
       "      <td>2016</td>\n",
       "      <td>3326141.059999</td>\n",
       "    </tr>\n",
       "    <tr>\n",
       "      <th>2</th>\n",
       "      <td>2017</td>\n",
       "      <td>-5665940.1</td>\n",
       "    </tr>\n",
       "  </tbody>\n",
       "</table>\n",
       "</div>"
      ],
      "text/plain": [
       "   year       attrition\n",
       "0  2015             nan\n",
       "1  2016  3326141.059999\n",
       "2  2017      -5665940.1"
      ]
     },
     "execution_count": 60,
     "metadata": {},
     "output_type": "execute_result"
    }
   ],
   "source": [
    "#attrition = revenue from lost customers - revenue from gained customers\n",
    "attrition = ['nan']\n",
    "for i in range(1,len(years)):\n",
    "    curr_year_data = yearly_data[years[i]]\n",
    "    prev_year_data = yearly_data[years[i-1]]\n",
    "    \n",
    "    curr_cust = set(curr_year_data['customer_email'])\n",
    "    prev_cust = set(prev_year_data['customer_email'])\n",
    "    \n",
    "    customers_lost = list(prev_cust - curr_cust)\n",
    "    customers_gained = list(curr_cust - prev_cust)\n",
    "    \n",
    "    cust_lost_data = prev_year_data[prev_year_data['customer_email'].isin(customers_lost)]\n",
    "    cust_gained_data = curr_year_data[curr_year_data['customer_email'].isin(customers_gained)]\n",
    "    \n",
    "    curr_attrition = sum(cust_lost_data['net_revenue']) - sum(cust_gained_data['net_revenue'])\n",
    "    attrition.append(curr_attrition)\n",
    "\n",
    "attrition_revenue = pd.DataFrame()\n",
    "attrition_revenue['year'] = years\n",
    "attrition_revenue['attrition'] = attrition\n",
    "attrition_revenue"
   ]
  },
  {
   "cell_type": "code",
   "execution_count": 66,
   "id": "three-stage",
   "metadata": {},
   "outputs": [],
   "source": [
    "output_df = pd.merge(output_df, attrition_revenue, on=\"year\")"
   ]
  },
  {
   "cell_type": "markdown",
   "id": "conventional-ordinance",
   "metadata": {},
   "source": [
    "## Existing Customer Revenue Current Year"
   ]
  },
  {
   "cell_type": "code",
   "execution_count": 67,
   "id": "opened-consciousness",
   "metadata": {
    "scrolled": true
   },
   "outputs": [
    {
     "data": {
      "text/html": [
       "<div>\n",
       "<style scoped>\n",
       "    .dataframe tbody tr th:only-of-type {\n",
       "        vertical-align: middle;\n",
       "    }\n",
       "\n",
       "    .dataframe tbody tr th {\n",
       "        vertical-align: top;\n",
       "    }\n",
       "\n",
       "    .dataframe thead th {\n",
       "        text-align: right;\n",
       "    }\n",
       "</style>\n",
       "<table border=\"1\" class=\"dataframe\">\n",
       "  <thead>\n",
       "    <tr style=\"text-align: right;\">\n",
       "      <th></th>\n",
       "      <th>year</th>\n",
       "      <th>existing_cust_rev</th>\n",
       "    </tr>\n",
       "  </thead>\n",
       "  <tbody>\n",
       "    <tr>\n",
       "      <th>0</th>\n",
       "      <td>2015</td>\n",
       "      <td>nan</td>\n",
       "    </tr>\n",
       "    <tr>\n",
       "      <th>1</th>\n",
       "      <td>2016</td>\n",
       "      <td>7485452.58</td>\n",
       "    </tr>\n",
       "    <tr>\n",
       "      <th>2</th>\n",
       "      <td>2017</td>\n",
       "      <td>2641259.99</td>\n",
       "    </tr>\n",
       "  </tbody>\n",
       "</table>\n",
       "</div>"
      ],
      "text/plain": [
       "   year existing_cust_rev\n",
       "0  2015               nan\n",
       "1  2016        7485452.58\n",
       "2  2017        2641259.99"
      ]
     },
     "execution_count": 67,
     "metadata": {},
     "output_type": "execute_result"
    }
   ],
   "source": [
    "existing_cust_rev = ['nan']\n",
    "\n",
    "for i in range(1,len(years)):\n",
    "    curr_year_data = yearly_data[years[i]]\n",
    "    prev_year_data = yearly_data[years[i-1]]\n",
    "    \n",
    "    curr_cust = set(curr_year_data['customer_email'])\n",
    "    prev_cust = set(prev_year_data['customer_email'])\n",
    "    \n",
    "    existing_cust = list(curr_cust.intersection(prev_cust))\n",
    "    \n",
    "    exist_cust_data = curr_year_data[curr_year_data['customer_email'].isin(existing_cust)]\n",
    "    \n",
    "    rev_exist_cust = sum(exist_cust_data['net_revenue'])\n",
    "\n",
    "    existing_cust_rev.append(rev_exist_cust)\n",
    "\n",
    "existing_cust_revenue = pd.DataFrame()\n",
    "existing_cust_revenue['year'] = years\n",
    "existing_cust_revenue['existing_cust_rev'] = existing_cust_rev\n",
    "existing_cust_revenue"
   ]
  },
  {
   "cell_type": "code",
   "execution_count": 68,
   "id": "alive-engine",
   "metadata": {},
   "outputs": [],
   "source": [
    "output_df = pd.merge(output_df, existing_cust_revenue, on=\"year\")"
   ]
  },
  {
   "cell_type": "markdown",
   "id": "infinite-alcohol",
   "metadata": {},
   "source": [
    "## Existing Customer Revenue Prior Year"
   ]
  },
  {
   "cell_type": "code",
   "execution_count": 69,
   "id": "sensitive-fundamental",
   "metadata": {},
   "outputs": [
    {
     "data": {
      "text/html": [
       "<div>\n",
       "<style scoped>\n",
       "    .dataframe tbody tr th:only-of-type {\n",
       "        vertical-align: middle;\n",
       "    }\n",
       "\n",
       "    .dataframe tbody tr th {\n",
       "        vertical-align: top;\n",
       "    }\n",
       "\n",
       "    .dataframe thead th {\n",
       "        text-align: right;\n",
       "    }\n",
       "</style>\n",
       "<table border=\"1\" class=\"dataframe\">\n",
       "  <thead>\n",
       "    <tr style=\"text-align: right;\">\n",
       "      <th></th>\n",
       "      <th>year</th>\n",
       "      <th>existing_cust_rev_prevYear</th>\n",
       "    </tr>\n",
       "  </thead>\n",
       "  <tbody>\n",
       "    <tr>\n",
       "      <th>0</th>\n",
       "      <td>2015</td>\n",
       "      <td>nan</td>\n",
       "    </tr>\n",
       "    <tr>\n",
       "      <th>1</th>\n",
       "      <td>2016</td>\n",
       "      <td>7465117.12</td>\n",
       "    </tr>\n",
       "    <tr>\n",
       "      <th>2</th>\n",
       "      <td>2017</td>\n",
       "      <td>2620648.65</td>\n",
       "    </tr>\n",
       "  </tbody>\n",
       "</table>\n",
       "</div>"
      ],
      "text/plain": [
       "   year existing_cust_rev_prevYear\n",
       "0  2015                        nan\n",
       "1  2016                 7465117.12\n",
       "2  2017                 2620648.65"
      ]
     },
     "execution_count": 69,
     "metadata": {},
     "output_type": "execute_result"
    }
   ],
   "source": [
    "exisiting_cust_rev_prev = ['nan']\n",
    "\n",
    "for i in range(1,len(years)):\n",
    "    curr_year_data = yearly_data[years[i]]\n",
    "    prev_year_data = yearly_data[years[i-1]]\n",
    "    \n",
    "    curr_cust = set(curr_year_data['customer_email'])\n",
    "    prev_cust = set(prev_year_data['customer_email'])\n",
    "    \n",
    "    existing_cust = list(curr_cust.intersection(prev_cust))\n",
    "    \n",
    "    exist_cust_data = curr_year_data[curr_year_data['customer_email'].isin(existing_cust)]\n",
    "    \n",
    "    rev_exit_cust_prev = sum(prev_year_data[prev_year_data['customer_email'].isin(existing_cust)]['net_revenue'])\n",
    "    \n",
    "    exisiting_cust_rev_prev.append(rev_exit_cust_prev)\n",
    "\n",
    "exisiting_cust_rev_previous = pd.DataFrame()\n",
    "exisiting_cust_rev_previous['year'] = years\n",
    "exisiting_cust_rev_previous['existing_cust_rev_prevYear'] = exisiting_cust_rev_prev\n",
    "exisiting_cust_rev_previous"
   ]
  },
  {
   "cell_type": "code",
   "execution_count": 70,
   "id": "positive-dress",
   "metadata": {},
   "outputs": [],
   "source": [
    "output_df = pd.merge(output_df, exisiting_cust_rev_previous, on=\"year\")"
   ]
  },
  {
   "cell_type": "markdown",
   "id": "hourly-neutral",
   "metadata": {},
   "source": [
    "## Total Customers Current Year"
   ]
  },
  {
   "cell_type": "code",
   "execution_count": 61,
   "id": "palestinian-hardware",
   "metadata": {},
   "outputs": [
    {
     "data": {
      "text/html": [
       "<div>\n",
       "<style scoped>\n",
       "    .dataframe tbody tr th:only-of-type {\n",
       "        vertical-align: middle;\n",
       "    }\n",
       "\n",
       "    .dataframe tbody tr th {\n",
       "        vertical-align: top;\n",
       "    }\n",
       "\n",
       "    .dataframe thead th {\n",
       "        text-align: right;\n",
       "    }\n",
       "</style>\n",
       "<table border=\"1\" class=\"dataframe\">\n",
       "  <thead>\n",
       "    <tr style=\"text-align: right;\">\n",
       "      <th></th>\n",
       "      <th>year</th>\n",
       "      <th>total_customers_curr</th>\n",
       "    </tr>\n",
       "  </thead>\n",
       "  <tbody>\n",
       "    <tr>\n",
       "      <th>0</th>\n",
       "      <td>2015</td>\n",
       "      <td>231294</td>\n",
       "    </tr>\n",
       "    <tr>\n",
       "      <th>1</th>\n",
       "      <td>2016</td>\n",
       "      <td>204646</td>\n",
       "    </tr>\n",
       "    <tr>\n",
       "      <th>2</th>\n",
       "      <td>2017</td>\n",
       "      <td>249987</td>\n",
       "    </tr>\n",
       "  </tbody>\n",
       "</table>\n",
       "</div>"
      ],
      "text/plain": [
       "   year  total_customers_curr\n",
       "0  2015                231294\n",
       "1  2016                204646\n",
       "2  2017                249987"
      ]
     },
     "execution_count": 61,
     "metadata": {},
     "output_type": "execute_result"
    }
   ],
   "source": [
    "total_customers_curr = []\n",
    "for year in years:\n",
    "    customers = set(yearly_data[year]['customer_email'])\n",
    "    total_customers_curr.append(len(customers))\n",
    "\n",
    "total_customers_current = pd.DataFrame()\n",
    "total_customers_current['year'] = years\n",
    "total_customers_current['total_customers_curr'] = total_customers_curr\n",
    "total_customers_current"
   ]
  },
  {
   "cell_type": "code",
   "execution_count": 71,
   "id": "conscious-worship",
   "metadata": {},
   "outputs": [],
   "source": [
    "output_df = pd.merge(output_df, total_customers_current, on=\"year\")"
   ]
  },
  {
   "cell_type": "markdown",
   "id": "treated-dryer",
   "metadata": {},
   "source": [
    "## Total Customers Previous Year"
   ]
  },
  {
   "cell_type": "code",
   "execution_count": 62,
   "id": "careful-causing",
   "metadata": {},
   "outputs": [
    {
     "data": {
      "text/html": [
       "<div>\n",
       "<style scoped>\n",
       "    .dataframe tbody tr th:only-of-type {\n",
       "        vertical-align: middle;\n",
       "    }\n",
       "\n",
       "    .dataframe tbody tr th {\n",
       "        vertical-align: top;\n",
       "    }\n",
       "\n",
       "    .dataframe thead th {\n",
       "        text-align: right;\n",
       "    }\n",
       "</style>\n",
       "<table border=\"1\" class=\"dataframe\">\n",
       "  <thead>\n",
       "    <tr style=\"text-align: right;\">\n",
       "      <th></th>\n",
       "      <th>year</th>\n",
       "      <th>total_customers_prev</th>\n",
       "    </tr>\n",
       "  </thead>\n",
       "  <tbody>\n",
       "    <tr>\n",
       "      <th>0</th>\n",
       "      <td>2015</td>\n",
       "      <td>nan</td>\n",
       "    </tr>\n",
       "    <tr>\n",
       "      <th>1</th>\n",
       "      <td>2016</td>\n",
       "      <td>231294</td>\n",
       "    </tr>\n",
       "    <tr>\n",
       "      <th>2</th>\n",
       "      <td>2017</td>\n",
       "      <td>204646</td>\n",
       "    </tr>\n",
       "  </tbody>\n",
       "</table>\n",
       "</div>"
      ],
      "text/plain": [
       "   year total_customers_prev\n",
       "0  2015                  nan\n",
       "1  2016               231294\n",
       "2  2017               204646"
      ]
     },
     "execution_count": 62,
     "metadata": {},
     "output_type": "execute_result"
    }
   ],
   "source": [
    "total_customers_prev = ['nan']\n",
    "for i in range(1, len(years)):\n",
    "    prev_year_data = yearly_data[years[i-1]]\n",
    "    customers = set(prev_year_data['customer_email'])\n",
    "    total_customers_prev.append(len(customers))\n",
    "\n",
    "total_customers_previous = pd.DataFrame()\n",
    "total_customers_previous['year'] = years\n",
    "total_customers_previous['total_customers_prev'] = total_customers_prev\n",
    "total_customers_previous"
   ]
  },
  {
   "cell_type": "code",
   "execution_count": 72,
   "id": "cognitive-division",
   "metadata": {},
   "outputs": [],
   "source": [
    "output_df = pd.merge(output_df, total_customers_previous, on=\"year\")"
   ]
  },
  {
   "cell_type": "markdown",
   "id": "interstate-pride",
   "metadata": {},
   "source": [
    "## New Customers"
   ]
  },
  {
   "cell_type": "code",
   "execution_count": 77,
   "id": "cheap-jacket",
   "metadata": {},
   "outputs": [
    {
     "data": {
      "text/html": [
       "<div>\n",
       "<style scoped>\n",
       "    .dataframe tbody tr th:only-of-type {\n",
       "        vertical-align: middle;\n",
       "    }\n",
       "\n",
       "    .dataframe tbody tr th {\n",
       "        vertical-align: top;\n",
       "    }\n",
       "\n",
       "    .dataframe thead th {\n",
       "        text-align: right;\n",
       "    }\n",
       "</style>\n",
       "<table border=\"1\" class=\"dataframe\">\n",
       "  <thead>\n",
       "    <tr style=\"text-align: right;\">\n",
       "      <th></th>\n",
       "      <th>year</th>\n",
       "      <th>new_customers</th>\n",
       "    </tr>\n",
       "  </thead>\n",
       "  <tbody>\n",
       "    <tr>\n",
       "      <th>0</th>\n",
       "      <td>2015</td>\n",
       "      <td>nan</td>\n",
       "    </tr>\n",
       "    <tr>\n",
       "      <th>1</th>\n",
       "      <td>2016</td>\n",
       "      <td>145062</td>\n",
       "    </tr>\n",
       "    <tr>\n",
       "      <th>2</th>\n",
       "      <td>2017</td>\n",
       "      <td>229028</td>\n",
       "    </tr>\n",
       "  </tbody>\n",
       "</table>\n",
       "</div>"
      ],
      "text/plain": [
       "   year new_customers\n",
       "0  2015           nan\n",
       "1  2016        145062\n",
       "2  2017        229028"
      ]
     },
     "execution_count": 77,
     "metadata": {},
     "output_type": "execute_result"
    }
   ],
   "source": [
    "new_cust = ['nan']\n",
    "for i in range(1, len(years)):\n",
    "    curr_year = yearly_data[years[i]]\n",
    "    prev_year = yearly_data[years[i-1]]\n",
    "    \n",
    "    new_cust_list = set(curr_year['customer_email']) - set(prev_year['customer_email'])\n",
    "    new_cust.append(len(new_cust_list))\n",
    "    \n",
    "new_customers = pd.DataFrame()\n",
    "new_customers['year'] = years\n",
    "new_customers['new_customers'] = new_cust\n",
    "new_customers"
   ]
  },
  {
   "cell_type": "code",
   "execution_count": 78,
   "id": "consecutive-victory",
   "metadata": {},
   "outputs": [],
   "source": [
    "output_df = pd.merge(output_df, new_customers, on=\"year\")"
   ]
  },
  {
   "cell_type": "markdown",
   "id": "fatal-bride",
   "metadata": {},
   "source": [
    "## Lost Customers"
   ]
  },
  {
   "cell_type": "code",
   "execution_count": 79,
   "id": "spectacular-maximum",
   "metadata": {},
   "outputs": [
    {
     "data": {
      "text/html": [
       "<div>\n",
       "<style scoped>\n",
       "    .dataframe tbody tr th:only-of-type {\n",
       "        vertical-align: middle;\n",
       "    }\n",
       "\n",
       "    .dataframe tbody tr th {\n",
       "        vertical-align: top;\n",
       "    }\n",
       "\n",
       "    .dataframe thead th {\n",
       "        text-align: right;\n",
       "    }\n",
       "</style>\n",
       "<table border=\"1\" class=\"dataframe\">\n",
       "  <thead>\n",
       "    <tr style=\"text-align: right;\">\n",
       "      <th></th>\n",
       "      <th>year</th>\n",
       "      <th>lost_customers</th>\n",
       "    </tr>\n",
       "  </thead>\n",
       "  <tbody>\n",
       "    <tr>\n",
       "      <th>0</th>\n",
       "      <td>2015</td>\n",
       "      <td>nan</td>\n",
       "    </tr>\n",
       "    <tr>\n",
       "      <th>1</th>\n",
       "      <td>2016</td>\n",
       "      <td>171710</td>\n",
       "    </tr>\n",
       "    <tr>\n",
       "      <th>2</th>\n",
       "      <td>2017</td>\n",
       "      <td>183687</td>\n",
       "    </tr>\n",
       "  </tbody>\n",
       "</table>\n",
       "</div>"
      ],
      "text/plain": [
       "   year lost_customers\n",
       "0  2015            nan\n",
       "1  2016         171710\n",
       "2  2017         183687"
      ]
     },
     "execution_count": 79,
     "metadata": {},
     "output_type": "execute_result"
    }
   ],
   "source": [
    "lost_cust = ['nan']\n",
    "for i in range(1, len(years)):\n",
    "    curr_year = yearly_data[years[i]]\n",
    "    prev_year = yearly_data[years[i-1]]\n",
    "    \n",
    "    lost_cust_list = set(prev_year['customer_email']) - set(curr_year['customer_email'])\n",
    "    lost_cust.append(len(lost_cust_list))\n",
    "    \n",
    "lost_customers = pd.DataFrame()\n",
    "lost_customers['year'] = years\n",
    "lost_customers['lost_customers'] = lost_cust\n",
    "lost_customers"
   ]
  },
  {
   "cell_type": "code",
   "execution_count": 80,
   "id": "concerned-lloyd",
   "metadata": {},
   "outputs": [],
   "source": [
    "output_df = pd.merge(output_df, lost_customers, on=\"year\")"
   ]
  },
  {
   "cell_type": "markdown",
   "id": "relative-elder",
   "metadata": {},
   "source": [
    "# Final Output"
   ]
  },
  {
   "cell_type": "code",
   "execution_count": 81,
   "id": "premier-requirement",
   "metadata": {},
   "outputs": [
    {
     "data": {
      "text/html": [
       "<div>\n",
       "<style scoped>\n",
       "    .dataframe tbody tr th:only-of-type {\n",
       "        vertical-align: middle;\n",
       "    }\n",
       "\n",
       "    .dataframe tbody tr th {\n",
       "        vertical-align: top;\n",
       "    }\n",
       "\n",
       "    .dataframe thead th {\n",
       "        text-align: right;\n",
       "    }\n",
       "</style>\n",
       "<table border=\"1\" class=\"dataframe\">\n",
       "  <thead>\n",
       "    <tr style=\"text-align: right;\">\n",
       "      <th></th>\n",
       "      <th>year</th>\n",
       "      <th>revenue</th>\n",
       "      <th>new_revenue</th>\n",
       "      <th>existing_cust_rev_prevYear_x</th>\n",
       "      <th>attrition</th>\n",
       "      <th>existing_cust_rev</th>\n",
       "      <th>existing_cust_rev_prevYear_y</th>\n",
       "      <th>total_customers_curr</th>\n",
       "      <th>total_customers_prev</th>\n",
       "      <th>new_customers</th>\n",
       "      <th>lost_customers</th>\n",
       "    </tr>\n",
       "  </thead>\n",
       "  <tbody>\n",
       "    <tr>\n",
       "      <th>0</th>\n",
       "      <td>2015</td>\n",
       "      <td>29036749.19</td>\n",
       "      <td>nan</td>\n",
       "      <td>nan</td>\n",
       "      <td>nan</td>\n",
       "      <td>nan</td>\n",
       "      <td>nan</td>\n",
       "      <td>231294</td>\n",
       "      <td>nan</td>\n",
       "      <td>nan</td>\n",
       "      <td>nan</td>\n",
       "    </tr>\n",
       "    <tr>\n",
       "      <th>1</th>\n",
       "      <td>2016</td>\n",
       "      <td>25730943.59</td>\n",
       "      <td>18245491.01</td>\n",
       "      <td>7465117.12</td>\n",
       "      <td>3326141.059999</td>\n",
       "      <td>7485452.58</td>\n",
       "      <td>7465117.12</td>\n",
       "      <td>204646</td>\n",
       "      <td>231294</td>\n",
       "      <td>145062</td>\n",
       "      <td>171710</td>\n",
       "    </tr>\n",
       "    <tr>\n",
       "      <th>2</th>\n",
       "      <td>2017</td>\n",
       "      <td>31417495.03</td>\n",
       "      <td>28776235.04</td>\n",
       "      <td>2620648.65</td>\n",
       "      <td>-5665940.1</td>\n",
       "      <td>2641259.99</td>\n",
       "      <td>2620648.65</td>\n",
       "      <td>249987</td>\n",
       "      <td>204646</td>\n",
       "      <td>229028</td>\n",
       "      <td>183687</td>\n",
       "    </tr>\n",
       "  </tbody>\n",
       "</table>\n",
       "</div>"
      ],
      "text/plain": [
       "   year      revenue  new_revenue existing_cust_rev_prevYear_x  \\\n",
       "0  2015  29036749.19          nan                          nan   \n",
       "1  2016  25730943.59  18245491.01                   7465117.12   \n",
       "2  2017  31417495.03  28776235.04                   2620648.65   \n",
       "\n",
       "        attrition existing_cust_rev existing_cust_rev_prevYear_y  \\\n",
       "0             nan               nan                          nan   \n",
       "1  3326141.059999        7485452.58                   7465117.12   \n",
       "2      -5665940.1        2641259.99                   2620648.65   \n",
       "\n",
       "   total_customers_curr total_customers_prev new_customers lost_customers  \n",
       "0                231294                  nan           nan            nan  \n",
       "1                204646               231294        145062         171710  \n",
       "2                249987               204646        229028         183687  "
      ]
     },
     "execution_count": 81,
     "metadata": {},
     "output_type": "execute_result"
    }
   ],
   "source": [
    "output_df"
   ]
  }
 ],
 "metadata": {
  "kernelspec": {
   "display_name": "Python 3",
   "language": "python",
   "name": "python3"
  },
  "language_info": {
   "codemirror_mode": {
    "name": "ipython",
    "version": 3
   },
   "file_extension": ".py",
   "mimetype": "text/x-python",
   "name": "python",
   "nbconvert_exporter": "python",
   "pygments_lexer": "ipython3",
   "version": "3.7.6"
  }
 },
 "nbformat": 4,
 "nbformat_minor": 5
}
